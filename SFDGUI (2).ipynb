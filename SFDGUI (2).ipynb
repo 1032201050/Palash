{
 "cells": [
  {
   "cell_type": "code",
   "execution_count": 11,
   "id": "9ac3ed02",
   "metadata": {},
   "outputs": [],
   "source": [
    "import import_ipynb"
   ]
  },
  {
   "cell_type": "code",
   "execution_count": 12,
   "id": "e16e1b7e",
   "metadata": {},
   "outputs": [],
   "source": [
    "import SFDmodel"
   ]
  },
  {
   "cell_type": "code",
   "execution_count": 13,
   "id": "942f9010",
   "metadata": {},
   "outputs": [],
   "source": [
    "from SFDmodel import readData"
   ]
  },
  {
   "cell_type": "code",
   "execution_count": 14,
   "id": "f18326f5",
   "metadata": {},
   "outputs": [],
   "source": [
    "import tkinter as tk"
   ]
  },
  {
   "cell_type": "code",
   "execution_count": 15,
   "id": "52174162",
   "metadata": {},
   "outputs": [],
   "source": [
    "from tkinter import filedialog\n",
    "from tkinter.filedialog import askopenfile"
   ]
  },
  {
   "cell_type": "code",
   "execution_count": 30,
   "id": "ac82fe6e",
   "metadata": {},
   "outputs": [
    {
     "name": "stdout",
     "output_type": "stream",
     "text": [
      "Genuine Image\n"
     ]
    }
   ],
   "source": [
    "from tkinter import *\n",
    "from PIL import Image, ImageTk\n",
    "from SFDmodel import readData\n",
    "\n",
    "my_w = tk.Tk()\n",
    "my_w.geometry(\"400x200\")  # Size of the window \n",
    "my_w.title('SVS')\n",
    "my_font1=('times', 18, 'bold')\n",
    "font2 = ('Nimbus Mono L', 10)\n",
    "\n",
    "l1 = tk.Label(my_w,text='ADD DETAILS',width=30,font=my_font1)  \n",
    "l1.grid(row=2,column=1,pady=10)\n",
    "\n",
    "prevtext = tk.Label(my_w,text=\"Enter the Person's ID\",width=30, font=font2) \n",
    "prevtext.grid(row=3,column=1)\n",
    "textBox=Text(my_w,  height=1, width=17)\n",
    "textBox.grid(row=4,column=1,pady=10) \n",
    "\n",
    "\n",
    "b1 = tk.Button(my_w, text='UPLOAD IMAGE', \n",
    "   width=20,command = lambda:upload_file())\n",
    "b1.grid(row=6,column=1,pady=5) \n",
    "    \n",
    "\n",
    "def retrieve_input():\n",
    "    return textBox.get(\"1.0\",\"end-1c\")\n",
    "    \n",
    "def upload_file():\n",
    "    global img\n",
    "    f_types = [('Jpg Files', '*.png')]\n",
    "    filename = filedialog.askopenfilename(filetypes=f_types)\n",
    "    inputValue=retrieve_input()\n",
    "    readData(str(inputValue),str(filename))\n",
    "    \n",
    "my_w.mainloop()"
   ]
  },
  {
   "cell_type": "code",
   "execution_count": null,
   "id": "891e0589",
   "metadata": {},
   "outputs": [],
   "source": []
  }
 ],
 "metadata": {
  "kernelspec": {
   "display_name": "Python 3 (ipykernel)",
   "language": "python",
   "name": "python3"
  },
  "language_info": {
   "codemirror_mode": {
    "name": "ipython",
    "version": 3
   },
   "file_extension": ".py",
   "mimetype": "text/x-python",
   "name": "python",
   "nbconvert_exporter": "python",
   "pygments_lexer": "ipython3",
   "version": "3.11.4"
  }
 },
 "nbformat": 4,
 "nbformat_minor": 5
}
